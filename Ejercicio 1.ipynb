{
 "cells": [
  {
   "cell_type": "markdown",
   "source": [
    "# CrediClub – Test de ingeniería analítica"
   ],
   "metadata": {}
  },
  {
   "cell_type": "code",
   "execution_count": 14,
   "source": [
    "from el_process import insert_data, read_excel, create_tables\r\n",
    "import sqlite3\r\n",
    "import pandas as pd"
   ],
   "outputs": [],
   "metadata": {}
  },
  {
   "cell_type": "markdown",
   "source": [
    "# Modelado base de datos\r\n",
    "Basado en la estructura de las tablas se propueso el siguiente modelado para la base de datos:\r\n",
    "\r\n",
    "![alt text](Diagram.png \"Title\")"
   ],
   "metadata": {}
  },
  {
   "cell_type": "markdown",
   "source": [
    "```sql\r\n",
    "CREATE TABLE IF NOT EXISTS \"managers\" (\r\n",
    "  \"GestorID\" INTEGER NOT NULL,\r\n",
    "  \"OficinaID\" INTEGER,\r\n",
    "  PRIMARY KEY (\"GestorID\")\r\n",
    ");\r\n",
    "\r\n",
    "\r\n",
    "CREATE TABLE IF NOT EXISTS \"credits\" (\r\n",
    "  \"CreditoID\" INTEGER NOT NULL,\r\n",
    "  \"Ciclo\" INTEGER,\r\n",
    "  \"MontoPendiente\" REAL,\r\n",
    "  \"GestorID\" INTEGER,\r\n",
    "  PRIMARY KEY (\"CreditoID\"),\r\n",
    "  FOREIGN KEY (\"GestorID\") REFERENCES \"managers\" (\"GestorID\") ON DELETE NO ACTION ON UPDATE NO ACTION\r\n",
    ");\r\n",
    "\r\n",
    "\r\n",
    "CREATE TABLE IF NOT EXISTS \"offices\" (\r\n",
    "  \"OficinaID\" INTEGER NOT NULL,\r\n",
    "  \"Oficina\" TEXT,\r\n",
    "  PRIMARY KEY (\"OficinaID\"),\r\n",
    "  FOREIGN KEY (\"OficinaID\") REFERENCES \"managers\" (\"OficinaID\") ON DELETE NO ACTION ON UPDATE NO ACTION\r\n",
    ");\r\n",
    "```"
   ],
   "metadata": {}
  },
  {
   "cell_type": "markdown",
   "source": [
    "# Extraccion y carga de datos\r\n",
    "\r\n",
    "## Creación tablas SQLlite\r\n",
    "Una vez definido los esquemas de las tablas, vamos a crear un instancia de SQLlite y crear las tablas en esta base de datos.\r\n",
    "\r\n",
    "**La definición de las funciones se encuentra en el modulo el_proceses.py.**"
   ],
   "metadata": {}
  },
  {
   "cell_type": "code",
   "execution_count": 15,
   "source": [
    "create_tables()"
   ],
   "outputs": [
    {
     "output_type": "stream",
     "name": "stdout",
     "text": [
      "Tabla managers creada con exito\n",
      "Tabla credits creada con exito\n",
      "Tabla offices creada con exito\n"
     ]
    }
   ],
   "metadata": {}
  },
  {
   "cell_type": "markdown",
   "source": [
    "## Leer datos archivo excel"
   ],
   "metadata": {}
  },
  {
   "cell_type": "code",
   "execution_count": 16,
   "source": [
    "data = read_excel()"
   ],
   "outputs": [],
   "metadata": {}
  },
  {
   "cell_type": "markdown",
   "source": [
    "## Cargar datos en SQLLite"
   ],
   "metadata": {}
  },
  {
   "cell_type": "code",
   "execution_count": 17,
   "source": [
    "for name, df in data.items():\r\n",
    "    print(name)\r\n",
    "    insert_data(df, name)\r\n"
   ],
   "outputs": [
    {
     "output_type": "stream",
     "name": "stdout",
     "text": [
      "Tabla creditos\n",
      "Registros insertados 25050\n",
      "Tabla gestores\n",
      "Registros insertados 179\n",
      "Tabla oficina\n",
      "Registros insertados 158\n"
     ]
    }
   ],
   "metadata": {}
  },
  {
   "cell_type": "markdown",
   "source": [
    "# Analizar datos\r\n",
    "Conexión sqllite"
   ],
   "metadata": {}
  },
  {
   "cell_type": "code",
   "execution_count": 18,
   "source": [
    "con = sqlite3.connect(\"creditos.db\")"
   ],
   "outputs": [],
   "metadata": {}
  },
  {
   "cell_type": "markdown",
   "source": [
    "## -\tNúmero de créditos por oficina"
   ],
   "metadata": {}
  },
  {
   "cell_type": "code",
   "execution_count": 19,
   "source": [
    "q1 = pd.read_sql(\"\"\"\r\n",
    "    SELECT \r\n",
    "    o.Oficina,\r\n",
    "    COUNT(c.CreditoID) total_creditos\r\n",
    "    FROM credits c \r\n",
    "    LEFT JOIN managers m ON m.GestorID = c.GestorID \r\n",
    "    LEFT JOIN offices o ON o.OficinaID = m.OficinaID \r\n",
    "    GROUP BY o.Oficina \r\n",
    "    ORDER BY total_creditos DESC;\r\n",
    "\"\"\", con)\r\n",
    "\r\n",
    "q1"
   ],
   "outputs": [
    {
     "output_type": "execute_result",
     "data": {
      "text/html": [
       "<div>\n",
       "<style scoped>\n",
       "    .dataframe tbody tr th:only-of-type {\n",
       "        vertical-align: middle;\n",
       "    }\n",
       "\n",
       "    .dataframe tbody tr th {\n",
       "        vertical-align: top;\n",
       "    }\n",
       "\n",
       "    .dataframe thead th {\n",
       "        text-align: right;\n",
       "    }\n",
       "</style>\n",
       "<table border=\"1\" class=\"dataframe\">\n",
       "  <thead>\n",
       "    <tr style=\"text-align: right;\">\n",
       "      <th></th>\n",
       "      <th>Oficina</th>\n",
       "      <th>total_creditos</th>\n",
       "    </tr>\n",
       "  </thead>\n",
       "  <tbody>\n",
       "    <tr>\n",
       "      <th>0</th>\n",
       "      <td>CORPORATIVO</td>\n",
       "      <td>3356</td>\n",
       "    </tr>\n",
       "    <tr>\n",
       "      <th>1</th>\n",
       "      <td>MEXICALI</td>\n",
       "      <td>354</td>\n",
       "    </tr>\n",
       "    <tr>\n",
       "      <th>2</th>\n",
       "      <td>PUEBLA SATELITE</td>\n",
       "      <td>332</td>\n",
       "    </tr>\n",
       "    <tr>\n",
       "      <th>3</th>\n",
       "      <td>CUERNAVACA NORTE</td>\n",
       "      <td>331</td>\n",
       "    </tr>\n",
       "    <tr>\n",
       "      <th>4</th>\n",
       "      <td>PUEBLA NORTE</td>\n",
       "      <td>313</td>\n",
       "    </tr>\n",
       "    <tr>\n",
       "      <th>...</th>\n",
       "      <td>...</td>\n",
       "      <td>...</td>\n",
       "    </tr>\n",
       "    <tr>\n",
       "      <th>153</th>\n",
       "      <td>MOTUL</td>\n",
       "      <td>34</td>\n",
       "    </tr>\n",
       "    <tr>\n",
       "      <th>154</th>\n",
       "      <td>NAVOJOA</td>\n",
       "      <td>27</td>\n",
       "    </tr>\n",
       "    <tr>\n",
       "      <th>155</th>\n",
       "      <td>IRAPUATO</td>\n",
       "      <td>19</td>\n",
       "    </tr>\n",
       "    <tr>\n",
       "      <th>156</th>\n",
       "      <td>TEPOTZOTLAN</td>\n",
       "      <td>1</td>\n",
       "    </tr>\n",
       "    <tr>\n",
       "      <th>157</th>\n",
       "      <td>OAXACA UNIVERSIDAD</td>\n",
       "      <td>1</td>\n",
       "    </tr>\n",
       "  </tbody>\n",
       "</table>\n",
       "<p>158 rows × 2 columns</p>\n",
       "</div>"
      ],
      "text/plain": [
       "                Oficina  total_creditos\n",
       "0           CORPORATIVO            3356\n",
       "1              MEXICALI             354\n",
       "2       PUEBLA SATELITE             332\n",
       "3      CUERNAVACA NORTE             331\n",
       "4          PUEBLA NORTE             313\n",
       "..                  ...             ...\n",
       "153               MOTUL              34\n",
       "154             NAVOJOA              27\n",
       "155            IRAPUATO              19\n",
       "156         TEPOTZOTLAN               1\n",
       "157  OAXACA UNIVERSIDAD               1\n",
       "\n",
       "[158 rows x 2 columns]"
      ]
     },
     "metadata": {},
     "execution_count": 19
    }
   ],
   "metadata": {}
  },
  {
   "cell_type": "markdown",
   "source": [
    "## -\tMonto pendiente acumulado por oficina"
   ],
   "metadata": {}
  },
  {
   "cell_type": "code",
   "execution_count": 20,
   "source": [
    "q2 = pd.read_sql(\"\"\"\r\n",
    "    SELECT \r\n",
    "    o.Oficina,\r\n",
    "    SUM(MontoPendiente) MontoPendiente\r\n",
    "    FROM credits c \r\n",
    "    LEFT JOIN managers m ON m.GestorID = c.GestorID \r\n",
    "    LEFT JOIN offices o ON o.OficinaID = m.OficinaID \r\n",
    "    GROUP BY o.Oficina \r\n",
    "    ORDER BY MontoPendiente DESC;\r\n",
    "\"\"\", con)\r\n",
    "q2"
   ],
   "outputs": [
    {
     "output_type": "execute_result",
     "data": {
      "text/html": [
       "<div>\n",
       "<style scoped>\n",
       "    .dataframe tbody tr th:only-of-type {\n",
       "        vertical-align: middle;\n",
       "    }\n",
       "\n",
       "    .dataframe tbody tr th {\n",
       "        vertical-align: top;\n",
       "    }\n",
       "\n",
       "    .dataframe thead th {\n",
       "        text-align: right;\n",
       "    }\n",
       "</style>\n",
       "<table border=\"1\" class=\"dataframe\">\n",
       "  <thead>\n",
       "    <tr style=\"text-align: right;\">\n",
       "      <th></th>\n",
       "      <th>Oficina</th>\n",
       "      <th>MontoPendiente</th>\n",
       "    </tr>\n",
       "  </thead>\n",
       "  <tbody>\n",
       "    <tr>\n",
       "      <th>0</th>\n",
       "      <td>CORPORATIVO</td>\n",
       "      <td>2.270447e+08</td>\n",
       "    </tr>\n",
       "    <tr>\n",
       "      <th>1</th>\n",
       "      <td>MEXICALI</td>\n",
       "      <td>5.241719e+07</td>\n",
       "    </tr>\n",
       "    <tr>\n",
       "      <th>2</th>\n",
       "      <td>TORREON-MATAMOROS COAHUILA</td>\n",
       "      <td>5.124982e+07</td>\n",
       "    </tr>\n",
       "    <tr>\n",
       "      <th>3</th>\n",
       "      <td>REYNOSA JUAREZ</td>\n",
       "      <td>4.760127e+07</td>\n",
       "    </tr>\n",
       "    <tr>\n",
       "      <th>4</th>\n",
       "      <td>VILLA AHUMADA-CD. JUAREZ ORIENTE</td>\n",
       "      <td>4.625195e+07</td>\n",
       "    </tr>\n",
       "    <tr>\n",
       "      <th>...</th>\n",
       "      <td>...</td>\n",
       "      <td>...</td>\n",
       "    </tr>\n",
       "    <tr>\n",
       "      <th>153</th>\n",
       "      <td>VALLADOLID</td>\n",
       "      <td>1.699358e+06</td>\n",
       "    </tr>\n",
       "    <tr>\n",
       "      <th>154</th>\n",
       "      <td>CALKINI</td>\n",
       "      <td>1.507150e+06</td>\n",
       "    </tr>\n",
       "    <tr>\n",
       "      <th>155</th>\n",
       "      <td>NAVOJOA</td>\n",
       "      <td>1.337007e+06</td>\n",
       "    </tr>\n",
       "    <tr>\n",
       "      <th>156</th>\n",
       "      <td>OAXACA UNIVERSIDAD</td>\n",
       "      <td>4.883676e+04</td>\n",
       "    </tr>\n",
       "    <tr>\n",
       "      <th>157</th>\n",
       "      <td>TEPOTZOTLAN</td>\n",
       "      <td>2.217516e+04</td>\n",
       "    </tr>\n",
       "  </tbody>\n",
       "</table>\n",
       "<p>158 rows × 2 columns</p>\n",
       "</div>"
      ],
      "text/plain": [
       "                              Oficina  MontoPendiente\n",
       "0                         CORPORATIVO    2.270447e+08\n",
       "1                            MEXICALI    5.241719e+07\n",
       "2          TORREON-MATAMOROS COAHUILA    5.124982e+07\n",
       "3                      REYNOSA JUAREZ    4.760127e+07\n",
       "4    VILLA AHUMADA-CD. JUAREZ ORIENTE    4.625195e+07\n",
       "..                                ...             ...\n",
       "153                        VALLADOLID    1.699358e+06\n",
       "154                           CALKINI    1.507150e+06\n",
       "155                           NAVOJOA    1.337007e+06\n",
       "156                OAXACA UNIVERSIDAD    4.883676e+04\n",
       "157                       TEPOTZOTLAN    2.217516e+04\n",
       "\n",
       "[158 rows x 2 columns]"
      ]
     },
     "metadata": {},
     "execution_count": 20
    }
   ],
   "metadata": {}
  },
  {
   "cell_type": "markdown",
   "source": [
    "## -\tTop 10 gestores por monto pendiente promedio y a que oficina pertenecen (solo de ciclos 1)"
   ],
   "metadata": {}
  },
  {
   "cell_type": "code",
   "execution_count": 21,
   "source": [
    "q3 = pd.read_sql(\"\"\"\r\n",
    "    WITH monto_gestores AS (\r\n",
    "\tSELECT \r\n",
    "\tGestorID,\r\n",
    "\tAVG(MontoPendiente) MontoPendientePromedio\r\n",
    "\tFROM credits c \r\n",
    "\tWHERE Ciclo = 1\r\n",
    "\tGROUP BY GestorID\r\n",
    "\tORDER BY MontoPendientePromedio DESC\r\n",
    "\tLIMIT 10\r\n",
    "\t)\r\n",
    "SELECT \r\n",
    "\tmg.GestorID, mg.MontoPendientePromedio, o.Oficina\r\n",
    "FROM  monto_gestores mg\r\n",
    "LEFT JOIN managers m ON m.GestorID = mg.GestorID \r\n",
    "LEFT JOIN offices o ON o.OficinaID = m.OficinaID;\r\n",
    "\"\"\", con)\r\n",
    "q3"
   ],
   "outputs": [
    {
     "output_type": "execute_result",
     "data": {
      "text/html": [
       "<div>\n",
       "<style scoped>\n",
       "    .dataframe tbody tr th:only-of-type {\n",
       "        vertical-align: middle;\n",
       "    }\n",
       "\n",
       "    .dataframe tbody tr th {\n",
       "        vertical-align: top;\n",
       "    }\n",
       "\n",
       "    .dataframe thead th {\n",
       "        text-align: right;\n",
       "    }\n",
       "</style>\n",
       "<table border=\"1\" class=\"dataframe\">\n",
       "  <thead>\n",
       "    <tr style=\"text-align: right;\">\n",
       "      <th></th>\n",
       "      <th>GestorID</th>\n",
       "      <th>MontoPendientePromedio</th>\n",
       "      <th>Oficina</th>\n",
       "    </tr>\n",
       "  </thead>\n",
       "  <tbody>\n",
       "    <tr>\n",
       "      <th>0</th>\n",
       "      <td>29258</td>\n",
       "      <td>151702.713474</td>\n",
       "      <td>IRAPUATO</td>\n",
       "    </tr>\n",
       "    <tr>\n",
       "      <th>1</th>\n",
       "      <td>16535</td>\n",
       "      <td>141036.094500</td>\n",
       "      <td>CHOLULA</td>\n",
       "    </tr>\n",
       "    <tr>\n",
       "      <th>2</th>\n",
       "      <td>22580</td>\n",
       "      <td>127679.160000</td>\n",
       "      <td>MOTUL</td>\n",
       "    </tr>\n",
       "    <tr>\n",
       "      <th>3</th>\n",
       "      <td>22509</td>\n",
       "      <td>125072.669674</td>\n",
       "      <td>GUANAJUATO</td>\n",
       "    </tr>\n",
       "    <tr>\n",
       "      <th>4</th>\n",
       "      <td>27101</td>\n",
       "      <td>124183.936864</td>\n",
       "      <td>ZACATELCO</td>\n",
       "    </tr>\n",
       "    <tr>\n",
       "      <th>5</th>\n",
       "      <td>28809</td>\n",
       "      <td>119502.720094</td>\n",
       "      <td>SAN JUAN DEL RIO QRO</td>\n",
       "    </tr>\n",
       "    <tr>\n",
       "      <th>6</th>\n",
       "      <td>15201</td>\n",
       "      <td>118758.527596</td>\n",
       "      <td>TIJUANA OTAY</td>\n",
       "    </tr>\n",
       "    <tr>\n",
       "      <th>7</th>\n",
       "      <td>29236</td>\n",
       "      <td>117231.404220</td>\n",
       "      <td>TULTITLAN</td>\n",
       "    </tr>\n",
       "    <tr>\n",
       "      <th>8</th>\n",
       "      <td>26710</td>\n",
       "      <td>115688.847750</td>\n",
       "      <td>VALLARTA</td>\n",
       "    </tr>\n",
       "    <tr>\n",
       "      <th>9</th>\n",
       "      <td>14523</td>\n",
       "      <td>110918.704312</td>\n",
       "      <td>MEXICALI</td>\n",
       "    </tr>\n",
       "  </tbody>\n",
       "</table>\n",
       "</div>"
      ],
      "text/plain": [
       "   GestorID  MontoPendientePromedio               Oficina\n",
       "0     29258           151702.713474              IRAPUATO\n",
       "1     16535           141036.094500               CHOLULA\n",
       "2     22580           127679.160000                 MOTUL\n",
       "3     22509           125072.669674            GUANAJUATO\n",
       "4     27101           124183.936864             ZACATELCO\n",
       "5     28809           119502.720094  SAN JUAN DEL RIO QRO\n",
       "6     15201           118758.527596          TIJUANA OTAY\n",
       "7     29236           117231.404220             TULTITLAN\n",
       "8     26710           115688.847750              VALLARTA\n",
       "9     14523           110918.704312              MEXICALI"
      ]
     },
     "metadata": {},
     "execution_count": 21
    }
   ],
   "metadata": {}
  }
 ],
 "metadata": {
  "orig_nbformat": 4,
  "language_info": {
   "name": "python",
   "version": "3.9.13",
   "mimetype": "text/x-python",
   "codemirror_mode": {
    "name": "ipython",
    "version": 3
   },
   "pygments_lexer": "ipython3",
   "nbconvert_exporter": "python",
   "file_extension": ".py"
  },
  "kernelspec": {
   "name": "python3",
   "display_name": "Python 3.9.13 64-bit ('imayz-p5Jx3QBv': pipenv)"
  },
  "interpreter": {
   "hash": "d1ea61cc022238a8b0689d4fb297598cda9dbb7cbbc288fdec8a3bdefe98f652"
  }
 },
 "nbformat": 4,
 "nbformat_minor": 2
}